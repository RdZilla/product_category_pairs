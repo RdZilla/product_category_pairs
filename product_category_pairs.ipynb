{
  "nbformat": 4,
  "nbformat_minor": 0,
  "metadata": {
    "colab": {
      "provenance": [],
      "authorship_tag": "ABX9TyOhpC4r6yVvfqmIdKvGR9ee",
      "include_colab_link": true
    },
    "kernelspec": {
      "name": "python3",
      "display_name": "Python 3"
    },
    "language_info": {
      "name": "python"
    }
  },
  "cells": [
    {
      "cell_type": "markdown",
      "metadata": {
        "id": "view-in-github",
        "colab_type": "text"
      },
      "source": [
        "<a href=\"https://colab.research.google.com/github/RdZilla/product_category_pairs/blob/main/product_category_pairs.ipynb\" target=\"_parent\"><img src=\"https://colab.research.google.com/assets/colab-badge.svg\" alt=\"Open In Colab\"/></a>"
      ]
    },
    {
      "cell_type": "code",
      "execution_count": 1,
      "metadata": {
        "colab": {
          "base_uri": "https://localhost:8080/"
        },
        "id": "P3WLYdo5_01i",
        "outputId": "aa350fd7-cd19-4e8b-d5bf-43e39405ee89"
      },
      "outputs": [
        {
          "output_type": "stream",
          "name": "stdout",
          "text": [
            "Collecting pyspark==3.0.1\n",
            "  Downloading pyspark-3.0.1.tar.gz (204.2 MB)\n",
            "\u001b[2K     \u001b[90m━━━━━━━━━━━━━━━━━━━━━━━━━━━━━━━━━━━━━━━━\u001b[0m \u001b[32m204.2/204.2 MB\u001b[0m \u001b[31m2.8 MB/s\u001b[0m eta \u001b[36m0:00:00\u001b[0m\n",
            "\u001b[?25h  Preparing metadata (setup.py) ... \u001b[?25l\u001b[?25hdone\n",
            "Collecting py4j==0.10.9\n",
            "  Downloading py4j-0.10.9-py2.py3-none-any.whl (198 kB)\n",
            "\u001b[2K     \u001b[90m━━━━━━━━━━━━━━━━━━━━━━━━━━━━━━━━━━━━━━━━\u001b[0m \u001b[32m198.6/198.6 kB\u001b[0m \u001b[31m17.9 MB/s\u001b[0m eta \u001b[36m0:00:00\u001b[0m\n",
            "\u001b[?25hBuilding wheels for collected packages: pyspark\n",
            "  Building wheel for pyspark (setup.py) ... \u001b[?25l\u001b[?25hdone\n",
            "  Created wheel for pyspark: filename=pyspark-3.0.1-py2.py3-none-any.whl size=204612224 sha256=47b44004e631305117426388731b3c56ea04d158588633995174f1b84b36bbdc\n",
            "  Stored in directory: /root/.cache/pip/wheels/19/b0/c8/6cb894117070e130fc44352c2a13f15b6c27e440d04a84fb48\n",
            "Successfully built pyspark\n",
            "Installing collected packages: py4j, pyspark\n",
            "  Attempting uninstall: py4j\n",
            "    Found existing installation: py4j 0.10.9.7\n",
            "    Uninstalling py4j-0.10.9.7:\n",
            "      Successfully uninstalled py4j-0.10.9.7\n",
            "Successfully installed py4j-0.10.9 pyspark-3.0.1\n"
          ]
        }
      ],
      "source": [
        "!pip install pyspark==3.0.1 py4j==0.10.9"
      ]
    },
    {
      "cell_type": "code",
      "source": [
        "from pyspark.sql import SparkSession\n",
        "from pyspark.sql.functions import col, collect_list, expr, lit"
      ],
      "metadata": {
        "id": "z1lLzE5I_-FJ"
      },
      "execution_count": 2,
      "outputs": []
    },
    {
      "cell_type": "code",
      "source": [
        "def get_product_category_pairs(df):\n",
        "    product_categories = df.groupBy(\"product_name\").agg(collect_list(\"category_name\").alias(\"categories\"))\n",
        "\n",
        "    product_category_pairs = product_categories.select(col(\"product_name\"), expr(\"explode_outer(categories)\").alias(\"category_name\"))\n",
        "    products_without_categories = df.filter(col(\"category_name\").isNull()).select(\"product_name\").distinct().withColumn(\"category_name\", lit(None))\n",
        "\n",
        "    result_df = product_category_pairs.union(products_without_categories)\n",
        "    result_df = result_df.orderBy(\"category_name\")\n",
        "    return result_df"
      ],
      "metadata": {
        "id": "znggv52v__LF"
      },
      "execution_count": 3,
      "outputs": []
    },
    {
      "cell_type": "code",
      "source": [
        "spark = SparkSession.builder \\\n",
        "    .appName(\"product_category_pairs\") \\\n",
        "    .getOrCreate()"
      ],
      "metadata": {
        "id": "UtUwY9xtAXTD"
      },
      "execution_count": 13,
      "outputs": []
    },
    {
      "cell_type": "code",
      "source": [
        "spark"
      ],
      "metadata": {
        "colab": {
          "base_uri": "https://localhost:8080/",
          "height": 219
        },
        "id": "NVYhfkgwA6-g",
        "outputId": "58c793e2-33ae-4a2d-8819-6c6ac0c14ac0"
      },
      "execution_count": 14,
      "outputs": [
        {
          "output_type": "execute_result",
          "data": {
            "text/plain": [
              "<pyspark.sql.session.SparkSession at 0x7a3d93f63e50>"
            ],
            "text/html": [
              "\n",
              "            <div>\n",
              "                <p><b>SparkSession - in-memory</b></p>\n",
              "                \n",
              "        <div>\n",
              "            <p><b>SparkContext</b></p>\n",
              "\n",
              "            <p><a href=\"http://bc3aacb4c171:4040\">Spark UI</a></p>\n",
              "\n",
              "            <dl>\n",
              "              <dt>Version</dt>\n",
              "                <dd><code>v3.0.1</code></dd>\n",
              "              <dt>Master</dt>\n",
              "                <dd><code>local[*]</code></dd>\n",
              "              <dt>AppName</dt>\n",
              "                <dd><code>product_category_pairs</code></dd>\n",
              "            </dl>\n",
              "        </div>\n",
              "        \n",
              "            </div>\n",
              "        "
            ]
          },
          "metadata": {},
          "execution_count": 14
        }
      ]
    },
    {
      "cell_type": "code",
      "source": [
        "data = [(\"Yogurt\", \"Milk\", \"optional information\", \"extra_info\"),\n",
        "        (\"Buckwheat\", \"Сereals\", \"optional information\", \"extra_info\"),\n",
        "        (\"Rice\", \"Milk\", \"optional information\", \"extra_info\"),\n",
        "        (\"Chicken\", \"Meat\", \"optional information\", \"extra_info\"),\n",
        "        (\"Pork\", \"Meat\", \"optional information\", \"extra_info\"),\n",
        "        (\"Beef\", \"Meat\", \"optional information\", \"extra_info\"),\n",
        "        (\"Bear\", \"Drinks\", \"optional information\", \"extra_info\"),\n",
        "        (\"Bear\", \"Alcohol\", \"optional information\", \"extra_info\"),\n",
        "        (\"Juice\", \"Drinks\", \"optional information\", \"extra_info\"),\n",
        "        (\"Croissants\", \"\", \"optional information\", \"extra_info\"),\n",
        "        (\"Tea\", \"\", \"optional_information\", \"extra_info\")]\n",
        "\n",
        "columns = [\"product_name\", \"category_name\", \"other_information\", \"extra_info\"]\n",
        "df = spark.createDataFrame(data, columns)\n",
        "df.show()"
      ],
      "metadata": {
        "colab": {
          "base_uri": "https://localhost:8080/"
        },
        "id": "OCQ8OxOPABI_",
        "outputId": "195dfcce-b064-41c2-e9a3-4230f95a66c9"
      },
      "execution_count": 15,
      "outputs": [
        {
          "output_type": "stream",
          "name": "stdout",
          "text": [
            "+------------+-------------+--------------------+----------+\n",
            "|product_name|category_name|   other_information|extra_info|\n",
            "+------------+-------------+--------------------+----------+\n",
            "|      Yogurt|         Milk|optional information|extra_info|\n",
            "|   Buckwheat|      Сereals|optional information|extra_info|\n",
            "|        Rice|         Milk|optional information|extra_info|\n",
            "|     Chicken|         Meat|optional information|extra_info|\n",
            "|        Pork|         Meat|optional information|extra_info|\n",
            "|        Beef|         Meat|optional information|extra_info|\n",
            "|        Bear|       Drinks|optional information|extra_info|\n",
            "|        Bear|      Alcohol|optional information|extra_info|\n",
            "|       Juice|       Drinks|optional information|extra_info|\n",
            "|  Croissants|             |optional information|extra_info|\n",
            "|         Tea|             |optional_information|extra_info|\n",
            "+------------+-------------+--------------------+----------+\n",
            "\n"
          ]
        }
      ]
    },
    {
      "cell_type": "code",
      "source": [
        "df.printSchema()"
      ],
      "metadata": {
        "colab": {
          "base_uri": "https://localhost:8080/"
        },
        "id": "OLnWu-H0AveI",
        "outputId": "9939eb3f-05e2-4279-fa0d-c8bbabfad571"
      },
      "execution_count": 16,
      "outputs": [
        {
          "output_type": "stream",
          "name": "stdout",
          "text": [
            "root\n",
            " |-- product_name: string (nullable = true)\n",
            " |-- category_name: string (nullable = true)\n",
            " |-- other_information: string (nullable = true)\n",
            " |-- extra_info: string (nullable = true)\n",
            "\n"
          ]
        }
      ]
    },
    {
      "cell_type": "code",
      "source": [
        "result_df = get_product_category_pairs(df)\n",
        "result_df.show()"
      ],
      "metadata": {
        "colab": {
          "base_uri": "https://localhost:8080/"
        },
        "id": "ATESgez1AkYn",
        "outputId": "8201b322-6655-4cdf-f6bd-500af4999e50"
      },
      "execution_count": 17,
      "outputs": [
        {
          "output_type": "stream",
          "name": "stdout",
          "text": [
            "+------------+-------------+\n",
            "|product_name|category_name|\n",
            "+------------+-------------+\n",
            "|  Croissants|             |\n",
            "|         Tea|             |\n",
            "|        Bear|      Alcohol|\n",
            "|        Bear|       Drinks|\n",
            "|       Juice|       Drinks|\n",
            "|        Beef|         Meat|\n",
            "|     Chicken|         Meat|\n",
            "|        Pork|         Meat|\n",
            "|      Yogurt|         Milk|\n",
            "|        Rice|         Milk|\n",
            "|   Buckwheat|      Сereals|\n",
            "+------------+-------------+\n",
            "\n"
          ]
        }
      ]
    },
    {
      "cell_type": "code",
      "source": [
        "result_df.printSchema()"
      ],
      "metadata": {
        "colab": {
          "base_uri": "https://localhost:8080/"
        },
        "id": "w_mUryk6Azlk",
        "outputId": "b2e2ad09-523e-4208-93aa-9dcc5dc8bdad"
      },
      "execution_count": 18,
      "outputs": [
        {
          "output_type": "stream",
          "name": "stdout",
          "text": [
            "root\n",
            " |-- product_name: string (nullable = true)\n",
            " |-- category_name: string (nullable = true)\n",
            "\n"
          ]
        }
      ]
    },
    {
      "cell_type": "code",
      "source": [
        "spark.stop()"
      ],
      "metadata": {
        "id": "iqIuPvn6AmgR"
      },
      "execution_count": 19,
      "outputs": []
    }
  ]
}